{
 "cells": [
  {
   "cell_type": "code",
   "execution_count": 20,
   "id": "serious-parade",
   "metadata": {},
   "outputs": [],
   "source": [
    "import re,os\n",
    "import numpy as np\n",
    "import pandas as pd"
   ]
  },
  {
   "cell_type": "code",
   "execution_count": 2,
   "id": "patient-contribution",
   "metadata": {},
   "outputs": [],
   "source": [
    "# Download Dataset\n",
    "# !git clone https://github.com/prince-mishra/the-constitution-of-india"
   ]
  },
  {
   "cell_type": "code",
   "execution_count": 3,
   "id": "handmade-synthesis",
   "metadata": {},
   "outputs": [
    {
     "name": "stdout",
     "output_type": "stream",
     "text": [
      "PART01.txt   PART08.txt   PART14A.txt  PART21.txt      SCHEDULE05.txt\r\n",
      "PART02.txt   PART09A.txt  PART14.txt   PART22.txt      SCHEDULE06.txt\r\n",
      "PART03.txt   PART09B.txt  PART15.txt   Preamble.txt    SCHEDULE07.txt\r\n",
      "PART04A.txt  PART09.txt   PART16.txt   README.md       SCHEDULE08.txt\r\n",
      "PART04.txt   PART10.txt   PART17.txt   SCHEDULE01.txt  SCHEDULE09.txt\r\n",
      "PART05.txt   PART11.txt   PART18.txt   SCHEDULE02.txt  SCHEDULE10.txt\r\n",
      "PART06.txt   PART12.txt   PART19.txt   SCHEDULE03.txt  SCHEDULE11.txt\r\n",
      "PART07.txt   PART13.txt   PART20.txt   SCHEDULE04.txt  SCHEDULE12.txt\r\n"
     ]
    }
   ],
   "source": [
    "!ls the-constitution-of-india/\n",
    "!mkdir data\n",
    "!cp -rv the-constitution-of-india/PART*.txt data/"
   ]
  },
  {
   "cell_type": "code",
   "execution_count": 32,
   "id": "economic-value",
   "metadata": {},
   "outputs": [],
   "source": [
    "def SPARSER(loc):\n",
    "    # generalize for one article\n",
    "    f = open(loc)\n",
    "    data = f.read()\n",
    "    dataf = data.replace(\"\\n\",\"<N>\")\n",
    "    dataf = dataf.replace(\"THE CONSTITUTION OF INDIA\",\"\")\n",
    "\n",
    "    data_dict = {}\n",
    "\n",
    "    data_dict[\"PART\"], dataf = re.split(\"<N>\",dataf,1)\n",
    "    data_dict[\"TITLE\"], dataf = re.split(\"<N>\",dataf,1)\n",
    "    dataf = \"<N>\"+dataf\n",
    "\n",
    "    SPLITTERS = re.findall(r\"<N>\\d+.?\\w?\\.[^<N>]\", dataf)\n",
    "    for i in range(len(SPLITTERS)-1):\n",
    "        TAG = SPLITTERS[i].replace('<N>','').replace('.','').strip()\n",
    "        TAGDATA = re.split(SPLITTERS[i+1],re.split(SPLITTERS[i],dataf,1)[-1],1)[0].replace(\"<N>\",\"\")\n",
    "        data_dict[TAG] = TAGDATA\n",
    "        if i==len(SPLITTERS)-2:\n",
    "            TAGL = SPLITTERS[i+1].replace('<N>','').replace('.','').strip()\n",
    "            TAGDATAL = re.split(SPLITTERS[i+1],re.split(SPLITTERS[i],dataf,1)[-1],1)[-1].replace(\"<N>\",\"\")\n",
    "            data_dict[TAGL] = TAGDATAL\n",
    "    f.close()\n",
    "    return data_dict"
   ]
  },
  {
   "cell_type": "code",
   "execution_count": 33,
   "id": "informative-drove",
   "metadata": {},
   "outputs": [],
   "source": [
    "DATADIR = \"data\"\n",
    "for i in os.listdir(DATADIR):\n",
    "    locals()[i.replace(\".txt\",\"\")] = SPARSER(f\"{DATADIR}/{i}\")"
   ]
  },
  {
   "cell_type": "code",
   "execution_count": 34,
   "id": "clean-disney",
   "metadata": {},
   "outputs": [
    {
     "data": {
      "text/plain": [
       "{'PART': 'PART XXII',\n",
       " 'TITLE': 'SHORT TITLE, COMMENCEMENT, AUTHORITATIVE',\n",
       " '393': 'Short title.—This Constitution may be called the Constitution ofIndia.',\n",
       " '394': 'Commencement.—This article and articles 5, 6, 7, 8, 9, 60, 324,366, 367, 379, 380, 388, 391, 392 and 393 shall come into force at once, andthe remaining provisions of this Constitution shall come into force on thetwenty-sixth day of January, 1950, which day is referred to in this Constitutionas the commencement of this Constitution.',\n",
       " '394A': 'Authoritative text in the Hindi language.—(1) The Presidentshall cause to be published under his authority,—(a) the translation of this Constitution in the Hindi language,signed by the members of the Constituent Assembly, with suchmodifications as may be necessary to bring it in conformity with thelanguage, style and terminology adopted in the authoritative texts ofCentral Acts in the Hindi language, and incorporating therein all theamendments of this Constitution made before such publication; and(b) the translation in the Hindi language of every amendment ofthis Constitution made in the English language.(2) The translation of this Constitution and of every amendment thereofpublished under clause (1) shall be construed to have the same meaning as theoriginal thereof and if any difficulty arises in so construing any part of suchtranslation, the President shall cause the same to be revised suitably.(3) The translation of this Constitution and of every amendment thereofpublished under this article shall be deemed to be, for all purposes, theauthoritative text thereof in the Hindi language.',\n",
       " '395': 'Repeals.—The Indian Independence Act, 1947, and theGovernment of India Act, 1935, together with all enactments amending orsupplementing the latter Act, but not including the Abolition of Privy CouncilJurisdiction Act, 1949, are hereby repealed.217\\x0c'}"
      ]
     },
     "execution_count": 34,
     "metadata": {},
     "output_type": "execute_result"
    }
   ],
   "source": [
    "PART22"
   ]
  },
  {
   "cell_type": "code",
   "execution_count": 35,
   "id": "hairy-bouquet",
   "metadata": {},
   "outputs": [],
   "source": [
    "fileName = os.listdir(DATADIR)\n",
    "fileName.sort()\n",
    "allList = []\n",
    "for i in fileName:\n",
    "    buffDict = locals()[i.replace(\".txt\",\"\")]\n",
    "    PART = buffDict[\"PART\"]\n",
    "    for j in list(buffDict.keys())[2:]:\n",
    "        allList.append([f\"{PART} - {j}\", buffDict[j]])"
   ]
  },
  {
   "cell_type": "code",
   "execution_count": 36,
   "id": "removable-accreditation",
   "metadata": {},
   "outputs": [],
   "source": [
    "articleData = pd.DataFrame(allList, columns=[\"PART-Article\", \"Data\"])"
   ]
  },
  {
   "cell_type": "code",
   "execution_count": 37,
   "id": "statewide-friendship",
   "metadata": {},
   "outputs": [],
   "source": [
    "articleData.to_csv(\"constitution_articlewise.csv\", index=0)"
   ]
  },
  {
   "cell_type": "code",
   "execution_count": null,
   "id": "hawaiian-stone",
   "metadata": {},
   "outputs": [],
   "source": []
  }
 ],
 "metadata": {
  "kernelspec": {
   "display_name": "Python 3",
   "language": "python",
   "name": "python3"
  },
  "language_info": {
   "codemirror_mode": {
    "name": "ipython",
    "version": 3
   },
   "file_extension": ".py",
   "mimetype": "text/x-python",
   "name": "python",
   "nbconvert_exporter": "python",
   "pygments_lexer": "ipython3",
   "version": "3.8.11"
  }
 },
 "nbformat": 4,
 "nbformat_minor": 5
}
