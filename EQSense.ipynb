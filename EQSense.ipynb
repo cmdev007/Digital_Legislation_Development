{
 "cells": [
  {
   "cell_type": "code",
   "execution_count": 48,
   "id": "worldwide-karma",
   "metadata": {},
   "outputs": [],
   "source": [
    "import pandas as pd\n",
    "import numpy as np\n",
    "from sklearn.metrics.pairwise import cosine_similarity"
   ]
  },
  {
   "cell_type": "code",
   "execution_count": 20,
   "id": "useful-tradition",
   "metadata": {},
   "outputs": [
    {
     "data": {
      "text/html": [
       "<div>\n",
       "<style scoped>\n",
       "    .dataframe tbody tr th:only-of-type {\n",
       "        vertical-align: middle;\n",
       "    }\n",
       "\n",
       "    .dataframe tbody tr th {\n",
       "        vertical-align: top;\n",
       "    }\n",
       "\n",
       "    .dataframe thead th {\n",
       "        text-align: right;\n",
       "    }\n",
       "</style>\n",
       "<table border=\"1\" class=\"dataframe\">\n",
       "  <thead>\n",
       "    <tr style=\"text-align: right;\">\n",
       "      <th></th>\n",
       "      <th>PART-Article</th>\n",
       "      <th>Data</th>\n",
       "    </tr>\n",
       "  </thead>\n",
       "  <tbody>\n",
       "    <tr>\n",
       "      <th>0</th>\n",
       "      <td>PART I - 1</td>\n",
       "      <td>Name and territory of the Union.—(1) India, th...</td>\n",
       "    </tr>\n",
       "    <tr>\n",
       "      <th>1</th>\n",
       "      <td>PART I - 2</td>\n",
       "      <td>Admission or establishment of new States.—Parl...</td>\n",
       "    </tr>\n",
       "    <tr>\n",
       "      <th>2</th>\n",
       "      <td>PART I - 2A</td>\n",
       "      <td>[Sikkim to be associated with the Union.] Rep....</td>\n",
       "    </tr>\n",
       "    <tr>\n",
       "      <th>3</th>\n",
       "      <td>PART I - 3</td>\n",
       "      <td>Formation of new States and alteration of area...</td>\n",
       "    </tr>\n",
       "    <tr>\n",
       "      <th>4</th>\n",
       "      <td>PART I - 4</td>\n",
       "      <td>Laws made under articles 2 and 3 to provide fo...</td>\n",
       "    </tr>\n",
       "  </tbody>\n",
       "</table>\n",
       "</div>"
      ],
      "text/plain": [
       "  PART-Article                                               Data\n",
       "0   PART I - 1  Name and territory of the Union.—(1) India, th...\n",
       "1   PART I - 2  Admission or establishment of new States.—Parl...\n",
       "2  PART I - 2A  [Sikkim to be associated with the Union.] Rep....\n",
       "3   PART I - 3  Formation of new States and alteration of area...\n",
       "4   PART I - 4  Laws made under articles 2 and 3 to provide fo..."
      ]
     },
     "execution_count": 20,
     "metadata": {},
     "output_type": "execute_result"
    }
   ],
   "source": [
    "df = pd.read_csv(\"constitution_articlewise.csv\")\n",
    "df.head()"
   ]
  },
  {
   "cell_type": "code",
   "execution_count": 25,
   "id": "italian-romantic",
   "metadata": {},
   "outputs": [],
   "source": [
    "import string\n",
    "def remPunct(text):\n",
    "    text = text.replace(\"(\",\" \").replace(\")\",\" \")\n",
    "    ans = \"\".join([c.lower() for c in text if c not in string.punctuation+\"—\"])\n",
    "    return ans"
   ]
  },
  {
   "cell_type": "code",
   "execution_count": 26,
   "id": "hungarian-backup",
   "metadata": {},
   "outputs": [
    {
     "data": {
      "text/html": [
       "<div>\n",
       "<style scoped>\n",
       "    .dataframe tbody tr th:only-of-type {\n",
       "        vertical-align: middle;\n",
       "    }\n",
       "\n",
       "    .dataframe tbody tr th {\n",
       "        vertical-align: top;\n",
       "    }\n",
       "\n",
       "    .dataframe thead th {\n",
       "        text-align: right;\n",
       "    }\n",
       "</style>\n",
       "<table border=\"1\" class=\"dataframe\">\n",
       "  <thead>\n",
       "    <tr style=\"text-align: right;\">\n",
       "      <th></th>\n",
       "      <th>PART-Article</th>\n",
       "      <th>Data</th>\n",
       "    </tr>\n",
       "  </thead>\n",
       "  <tbody>\n",
       "    <tr>\n",
       "      <th>0</th>\n",
       "      <td>PART I - 1</td>\n",
       "      <td>name and territory of the union 1  india that ...</td>\n",
       "    </tr>\n",
       "    <tr>\n",
       "      <th>1</th>\n",
       "      <td>PART I - 2</td>\n",
       "      <td>admission or establishment of new statesparlia...</td>\n",
       "    </tr>\n",
       "    <tr>\n",
       "      <th>2</th>\n",
       "      <td>PART I - 2A</td>\n",
       "      <td>sikkim to be associated with the union rep by ...</td>\n",
       "    </tr>\n",
       "    <tr>\n",
       "      <th>3</th>\n",
       "      <td>PART I - 3</td>\n",
       "      <td>formation of new states and alteration of area...</td>\n",
       "    </tr>\n",
       "    <tr>\n",
       "      <th>4</th>\n",
       "      <td>PART I - 4</td>\n",
       "      <td>laws made under articles 2 and 3 to provide fo...</td>\n",
       "    </tr>\n",
       "  </tbody>\n",
       "</table>\n",
       "</div>"
      ],
      "text/plain": [
       "  PART-Article                                               Data\n",
       "0   PART I - 1  name and territory of the union 1  india that ...\n",
       "1   PART I - 2  admission or establishment of new statesparlia...\n",
       "2  PART I - 2A  sikkim to be associated with the union rep by ...\n",
       "3   PART I - 3  formation of new states and alteration of area...\n",
       "4   PART I - 4  laws made under articles 2 and 3 to provide fo..."
      ]
     },
     "execution_count": 26,
     "metadata": {},
     "output_type": "execute_result"
    }
   ],
   "source": [
    "df['Data'] = df[\"Data\"].map(str).apply(lambda x: remPunct(x))\n",
    "df.head()"
   ]
  },
  {
   "cell_type": "code",
   "execution_count": 29,
   "id": "institutional-proof",
   "metadata": {},
   "outputs": [
    {
     "name": "stderr",
     "output_type": "stream",
     "text": [
      "[nltk_data] Downloading package stopwords to /home/cm/nltk_data...\n",
      "[nltk_data]   Package stopwords is already up-to-date!\n"
     ]
    },
    {
     "data": {
      "text/html": [
       "<div>\n",
       "<style scoped>\n",
       "    .dataframe tbody tr th:only-of-type {\n",
       "        vertical-align: middle;\n",
       "    }\n",
       "\n",
       "    .dataframe tbody tr th {\n",
       "        vertical-align: top;\n",
       "    }\n",
       "\n",
       "    .dataframe thead th {\n",
       "        text-align: right;\n",
       "    }\n",
       "</style>\n",
       "<table border=\"1\" class=\"dataframe\">\n",
       "  <thead>\n",
       "    <tr style=\"text-align: right;\">\n",
       "      <th></th>\n",
       "      <th>PART-Article</th>\n",
       "      <th>Data</th>\n",
       "    </tr>\n",
       "  </thead>\n",
       "  <tbody>\n",
       "    <tr>\n",
       "      <th>0</th>\n",
       "      <td>PART I - 1</td>\n",
       "      <td>name territory union 1 india bharat shall bea ...</td>\n",
       "    </tr>\n",
       "    <tr>\n",
       "      <th>1</th>\n",
       "      <td>PART I - 2</td>\n",
       "      <td>admission establishment new statesparliament m...</td>\n",
       "    </tr>\n",
       "    <tr>\n",
       "      <th>2</th>\n",
       "      <td>PART I - 2A</td>\n",
       "      <td>sikkim associated union rep constitution thirt...</td>\n",
       "    </tr>\n",
       "    <tr>\n",
       "      <th>3</th>\n",
       "      <td>PART I - 3</td>\n",
       "      <td>formation new states alteration areas boundari...</td>\n",
       "    </tr>\n",
       "    <tr>\n",
       "      <th>4</th>\n",
       "      <td>PART I - 4</td>\n",
       "      <td>laws made articles 2 3 provide amendmentof fir...</td>\n",
       "    </tr>\n",
       "  </tbody>\n",
       "</table>\n",
       "</div>"
      ],
      "text/plain": [
       "  PART-Article                                               Data\n",
       "0   PART I - 1  name territory union 1 india bharat shall bea ...\n",
       "1   PART I - 2  admission establishment new statesparliament m...\n",
       "2  PART I - 2A  sikkim associated union rep constitution thirt...\n",
       "3   PART I - 3  formation new states alteration areas boundari...\n",
       "4   PART I - 4  laws made articles 2 3 provide amendmentof fir..."
      ]
     },
     "execution_count": 29,
     "metadata": {},
     "output_type": "execute_result"
    }
   ],
   "source": [
    "import nltk\n",
    "nltk.download('stopwords')\n",
    "from nltk.corpus import stopwords\n",
    "\n",
    "def remStop(text):\n",
    "    ans = [i for i in text.split() if i not in stopwords.words('english')]\n",
    "    return \" \".join(ans)\n",
    "df['Data'] = df[\"Data\"].apply(lambda x: remStop(x))\n",
    "df.head()"
   ]
  },
  {
   "cell_type": "code",
   "execution_count": 30,
   "id": "fatty-tulsa",
   "metadata": {},
   "outputs": [
    {
     "data": {
      "text/html": [
       "<div>\n",
       "<style scoped>\n",
       "    .dataframe tbody tr th:only-of-type {\n",
       "        vertical-align: middle;\n",
       "    }\n",
       "\n",
       "    .dataframe tbody tr th {\n",
       "        vertical-align: top;\n",
       "    }\n",
       "\n",
       "    .dataframe thead th {\n",
       "        text-align: right;\n",
       "    }\n",
       "</style>\n",
       "<table border=\"1\" class=\"dataframe\">\n",
       "  <thead>\n",
       "    <tr style=\"text-align: right;\">\n",
       "      <th></th>\n",
       "      <th>PART-Article</th>\n",
       "      <th>Data</th>\n",
       "    </tr>\n",
       "  </thead>\n",
       "  <tbody>\n",
       "    <tr>\n",
       "      <th>0</th>\n",
       "      <td>PART I - 1</td>\n",
       "      <td>name territori union 1 india bharat shall bea ...</td>\n",
       "    </tr>\n",
       "    <tr>\n",
       "      <th>1</th>\n",
       "      <td>PART I - 2</td>\n",
       "      <td>admiss establish new statesparlia may lawadmit...</td>\n",
       "    </tr>\n",
       "    <tr>\n",
       "      <th>2</th>\n",
       "      <td>PART I - 2A</td>\n",
       "      <td>sikkim associ union rep constitut thirti sixth...</td>\n",
       "    </tr>\n",
       "    <tr>\n",
       "      <th>3</th>\n",
       "      <td>PART I - 3</td>\n",
       "      <td>format new state alter area boundari ornam exi...</td>\n",
       "    </tr>\n",
       "    <tr>\n",
       "      <th>4</th>\n",
       "      <td>PART I - 4</td>\n",
       "      <td>law made articl 2 3 provid amendmentof first f...</td>\n",
       "    </tr>\n",
       "  </tbody>\n",
       "</table>\n",
       "</div>"
      ],
      "text/plain": [
       "  PART-Article                                               Data\n",
       "0   PART I - 1  name territori union 1 india bharat shall bea ...\n",
       "1   PART I - 2  admiss establish new statesparlia may lawadmit...\n",
       "2  PART I - 2A  sikkim associ union rep constitut thirti sixth...\n",
       "3   PART I - 3  format new state alter area boundari ornam exi...\n",
       "4   PART I - 4  law made articl 2 3 provid amendmentof first f..."
      ]
     },
     "execution_count": 30,
     "metadata": {},
     "output_type": "execute_result"
    }
   ],
   "source": [
    "from nltk.stem import PorterStemmer\n",
    "def Stemmer(text):\n",
    "    ans = [PorterStemmer().stem(i) for i in text.split()]\n",
    "    return \" \".join(ans)\n",
    "df['Data'] = df[\"Data\"].apply(lambda x: Stemmer(x))\n",
    "df.head()"
   ]
  },
  {
   "cell_type": "code",
   "execution_count": 32,
   "id": "informal-advantage",
   "metadata": {},
   "outputs": [],
   "source": [
    "Corpus = []\n",
    "for i in df.Data.values:\n",
    "    Corpus.append(i.split())"
   ]
  },
  {
   "cell_type": "code",
   "execution_count": 36,
   "id": "inappropriate-interaction",
   "metadata": {},
   "outputs": [],
   "source": [
    "!mkdir word2vec\n",
    "PATH = \"word2vec\"\n",
    "embedding_depth = 300\n",
    "from gensim.models import Word2Vec\n",
    "model_sb = Word2Vec(Corpus, sg=1, window=2, vector_size=embedding_depth, hs=1)\n",
    "model_sb.save(f\"{PATH}/modelSB0_{embedding_depth}\")"
   ]
  },
  {
   "cell_type": "code",
   "execution_count": 49,
   "id": "photographic-shock",
   "metadata": {},
   "outputs": [],
   "source": [
    "data_emb = np.zeros((df.shape[0],embedding_depth))\n",
    "mainc = 0\n",
    "for i in df.Data:\n",
    "    buff = i.split()\n",
    "    buffn = np.zeros(embedding_depth)\n",
    "    c = 0\n",
    "    for j in buff:\n",
    "        try:\n",
    "            buffn+=model_sb.wv[j]\n",
    "            c+=1\n",
    "        except:\n",
    "            pass\n",
    "    data_emb[mainc] = buffn/c\n",
    "    mainc+=1"
   ]
  },
  {
   "cell_type": "code",
   "execution_count": 52,
   "id": "marked-afternoon",
   "metadata": {},
   "outputs": [
    {
     "data": {
      "text/plain": [
       "array([[-2.81573116e-02,  1.07740952e-01,  2.59164488e-03, ...,\n",
       "        -2.30966160e-02, -7.03013568e-02, -1.04730112e-01],\n",
       "       [-3.04501372e-02,  9.32923621e-02, -4.15646524e-02, ...,\n",
       "        -5.82069147e-02, -3.38633081e-02, -6.76568768e-02],\n",
       "       [ 1.75205692e-02,  6.45251479e-03, -2.51955011e-02, ...,\n",
       "        -9.86967199e-03, -3.55671897e-02, -8.27735718e-02],\n",
       "       ...,\n",
       "       [ 3.03240847e-02, -3.89440760e-02, -1.31322937e-02, ...,\n",
       "        -2.10742836e-02, -4.47861533e-02, -9.10109240e-02],\n",
       "       [ 1.22016267e-02,  1.18826022e-02, -1.59249189e-02, ...,\n",
       "        -1.15943460e-02, -5.83680177e-02, -6.48959460e-02],\n",
       "       [ 5.21226540e-03,  3.35149296e-02, -5.62073665e-02, ...,\n",
       "        -5.88831047e-02,  1.82900611e-05, -9.57289192e-02]])"
      ]
     },
     "execution_count": 52,
     "metadata": {},
     "output_type": "execute_result"
    }
   ],
   "source": [
    "data_emb"
   ]
  },
  {
   "cell_type": "code",
   "execution_count": 139,
   "id": "welcome-japan",
   "metadata": {},
   "outputs": [],
   "source": [
    "def EQSense(sent, emb=data_emb, model=model_sb, df=df):\n",
    "    sent = Stemmer(remStop(remPunct(sent)))\n",
    "    buff = sent.split()\n",
    "    query = np.zeros(emb.shape[1])\n",
    "    \n",
    "    c = 0\n",
    "    for j in buff:\n",
    "        try:\n",
    "            query+=model_sb.wv[j]\n",
    "            c+=1\n",
    "        except:\n",
    "            pass\n",
    "    if query.all() == np.zeros(emb.shape[1]).all():\n",
    "        return \"Constitution was not violated\"\n",
    "    query = query/c\n",
    "    \n",
    "    cos_sim = []\n",
    "    for i in emb:\n",
    "        cos_sim.append(float(cosine_similarity(query.reshape(-1,1).T,i.reshape(-1,1).T)))\n",
    "    ans = []\n",
    "    for i in range(5):\n",
    "        ind = np.argmax(cos_sim)\n",
    "        cos_sim[ind] = -9999\n",
    "        ans.append(df[\"PART-Article\"][ind])\n",
    "    return ans\n",
    "    "
   ]
  },
  {
   "cell_type": "code",
   "execution_count": 150,
   "id": "discrete-electronics",
   "metadata": {},
   "outputs": [
    {
     "data": {
      "text/plain": [
       "['PART III - 24',\n",
       " 'PART VI - 157',\n",
       " 'PART II - 5',\n",
       " 'PART IV - 45',\n",
       " 'PART V - 63']"
      ]
     },
     "execution_count": 150,
     "metadata": {},
     "output_type": "execute_result"
    }
   ],
   "source": [
    "EQSense(\"boy having age of 14 years was slapped by boss\")"
   ]
  },
  {
   "cell_type": "code",
   "execution_count": null,
   "id": "divine-castle",
   "metadata": {},
   "outputs": [],
   "source": []
  }
 ],
 "metadata": {
  "kernelspec": {
   "display_name": "Python 3",
   "language": "python",
   "name": "python3"
  },
  "language_info": {
   "codemirror_mode": {
    "name": "ipython",
    "version": 3
   },
   "file_extension": ".py",
   "mimetype": "text/x-python",
   "name": "python",
   "nbconvert_exporter": "python",
   "pygments_lexer": "ipython3",
   "version": "3.8.11"
  }
 },
 "nbformat": 4,
 "nbformat_minor": 5
}
